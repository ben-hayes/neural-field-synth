{
 "cells": [
  {
   "cell_type": "code",
   "execution_count": 1,
   "id": "2e13a43d",
   "metadata": {},
   "outputs": [
    {
     "data": {
      "application/javascript": [
       "\n",
       "            setTimeout(function() {\n",
       "                var nbb_cell_id = 1;\n",
       "                var nbb_unformatted_code = \"%load_ext nb_black\";\n",
       "                var nbb_formatted_code = \"%load_ext nb_black\";\n",
       "                var nbb_cells = Jupyter.notebook.get_cells();\n",
       "                for (var i = 0; i < nbb_cells.length; ++i) {\n",
       "                    if (nbb_cells[i].input_prompt_number == nbb_cell_id) {\n",
       "                        if (nbb_cells[i].get_text() == nbb_unformatted_code) {\n",
       "                             nbb_cells[i].set_text(nbb_formatted_code);\n",
       "                        }\n",
       "                        break;\n",
       "                    }\n",
       "                }\n",
       "            }, 500);\n",
       "            "
      ],
      "text/plain": [
       "<IPython.core.display.Javascript object>"
      ]
     },
     "metadata": {},
     "output_type": "display_data"
    }
   ],
   "source": [
    "%load_ext nb_black"
   ]
  },
  {
   "cell_type": "code",
   "execution_count": 2,
   "id": "093ecbe7",
   "metadata": {},
   "outputs": [
    {
     "data": {
      "application/javascript": [
       "\n",
       "            setTimeout(function() {\n",
       "                var nbb_cell_id = 2;\n",
       "                var nbb_unformatted_code = \"import auraloss\\nimport IPython.display as ipd\\nimport matplotlib.pyplot as plt\\nimport pytorch_lightning as pl\\nimport torch\\nimport torch.nn as nn\\nimport torch.nn.functional as F\\n\\nfrom neural_field_synth.data import NSynthDataset\\nfrom neural_field_synth.signal import FIRNoiseSynth\\nfrom neural_field_synth.models import NeuralFieldSynth, LightningWrapper\";\n",
       "                var nbb_formatted_code = \"import auraloss\\nimport IPython.display as ipd\\nimport matplotlib.pyplot as plt\\nimport pytorch_lightning as pl\\nimport torch\\nimport torch.nn as nn\\nimport torch.nn.functional as F\\n\\nfrom neural_field_synth.data import NSynthDataset\\nfrom neural_field_synth.signal import FIRNoiseSynth\\nfrom neural_field_synth.models import NeuralFieldSynth, LightningWrapper\";\n",
       "                var nbb_cells = Jupyter.notebook.get_cells();\n",
       "                for (var i = 0; i < nbb_cells.length; ++i) {\n",
       "                    if (nbb_cells[i].input_prompt_number == nbb_cell_id) {\n",
       "                        if (nbb_cells[i].get_text() == nbb_unformatted_code) {\n",
       "                             nbb_cells[i].set_text(nbb_formatted_code);\n",
       "                        }\n",
       "                        break;\n",
       "                    }\n",
       "                }\n",
       "            }, 500);\n",
       "            "
      ],
      "text/plain": [
       "<IPython.core.display.Javascript object>"
      ]
     },
     "metadata": {},
     "output_type": "display_data"
    }
   ],
   "source": [
    "import auraloss\n",
    "import IPython.display as ipd\n",
    "import matplotlib.pyplot as plt\n",
    "import pytorch_lightning as pl\n",
    "import torch\n",
    "import torch.nn as nn\n",
    "import torch.nn.functional as F\n",
    "\n",
    "from neural_field_synth.data import NSynthDataset\n",
    "from neural_field_synth.signal import FIRNoiseSynth\n",
    "from neural_field_synth.models import NeuralFieldSynth, LightningWrapper"
   ]
  },
  {
   "cell_type": "code",
   "execution_count": 3,
   "id": "ad7cb382",
   "metadata": {},
   "outputs": [
    {
     "data": {
      "application/javascript": [
       "\n",
       "            setTimeout(function() {\n",
       "                var nbb_cell_id = 3;\n",
       "                var nbb_unformatted_code = \"model = NeuralFieldSynth(\\n    instrument_embedding_size=8,\\n    mlp_hidden_size=1024,\\n    mlp_hidden_layers=5,\\n    field_hidden_size=384,\\n    field_hidden_layers=3,\\n    wave_field_first_omega_0=300,\\n    wave_field_hidden_omega_0=100,\\n    noise_field_first_omega_0=100,\\n    noise_field_hidden_omega_0=30,\\n    noise_ir_length=128,\\n    noise_window_length=128,\\n    noise_hop_length=64,\\n#     freeze_siren=True,\\n)\\nmodel = LightningWrapper(\\n    model,\\n    auraloss.freq.MultiResolutionSTFTLoss(\\n        fft_sizes=[64, 128, 256, 512, 1024, 4096],\\n        hop_sizes=[32, 64, 128, 256, 512, 2048],\\n        win_lengths=[64, 128, 256, 512, 1024, 4096],\\n    ),\\n    learning_rate=1e-3,\\n    log_audio=False,\\n)\";\n",
       "                var nbb_formatted_code = \"model = NeuralFieldSynth(\\n    instrument_embedding_size=8,\\n    mlp_hidden_size=1024,\\n    mlp_hidden_layers=5,\\n    field_hidden_size=384,\\n    field_hidden_layers=3,\\n    wave_field_first_omega_0=300,\\n    wave_field_hidden_omega_0=100,\\n    noise_field_first_omega_0=100,\\n    noise_field_hidden_omega_0=30,\\n    noise_ir_length=128,\\n    noise_window_length=128,\\n    noise_hop_length=64,\\n    #     freeze_siren=True,\\n)\\nmodel = LightningWrapper(\\n    model,\\n    auraloss.freq.MultiResolutionSTFTLoss(\\n        fft_sizes=[64, 128, 256, 512, 1024, 4096],\\n        hop_sizes=[32, 64, 128, 256, 512, 2048],\\n        win_lengths=[64, 128, 256, 512, 1024, 4096],\\n    ),\\n    learning_rate=1e-3,\\n    log_audio=False,\\n)\";\n",
       "                var nbb_cells = Jupyter.notebook.get_cells();\n",
       "                for (var i = 0; i < nbb_cells.length; ++i) {\n",
       "                    if (nbb_cells[i].input_prompt_number == nbb_cell_id) {\n",
       "                        if (nbb_cells[i].get_text() == nbb_unformatted_code) {\n",
       "                             nbb_cells[i].set_text(nbb_formatted_code);\n",
       "                        }\n",
       "                        break;\n",
       "                    }\n",
       "                }\n",
       "            }, 500);\n",
       "            "
      ],
      "text/plain": [
       "<IPython.core.display.Javascript object>"
      ]
     },
     "metadata": {},
     "output_type": "display_data"
    }
   ],
   "source": [
    "model = NeuralFieldSynth(\n",
    "    instrument_embedding_size=8,\n",
    "    mlp_hidden_size=1024,\n",
    "    mlp_hidden_layers=5,\n",
    "    field_hidden_size=384,\n",
    "    field_hidden_layers=3,\n",
    "    wave_field_first_omega_0=300,\n",
    "    wave_field_hidden_omega_0=100,\n",
    "    noise_field_first_omega_0=100,\n",
    "    noise_field_hidden_omega_0=30,\n",
    "    noise_ir_length=128,\n",
    "    noise_window_length=128,\n",
    "    noise_hop_length=64,\n",
    "    #     freeze_siren=True,\n",
    ")\n",
    "model = LightningWrapper(\n",
    "    model,\n",
    "    auraloss.freq.MultiResolutionSTFTLoss(\n",
    "        fft_sizes=[64, 128, 256, 512, 1024, 4096],\n",
    "        hop_sizes=[32, 64, 128, 256, 512, 2048],\n",
    "        win_lengths=[64, 128, 256, 512, 1024, 4096],\n",
    "    ),\n",
    "    learning_rate=1e-3,\n",
    "    log_audio=False,\n",
    ")"
   ]
  },
  {
   "cell_type": "code",
   "execution_count": 4,
   "id": "529c854e",
   "metadata": {},
   "outputs": [
    {
     "data": {
      "application/javascript": [
       "\n",
       "            setTimeout(function() {\n",
       "                var nbb_cell_id = 4;\n",
       "                var nbb_unformatted_code = \"ds = NSynthDataset(\\\"/import/c4dm-datasets/nsynth/nsynth-test/\\\")\\ndl = torch.utils.data.DataLoader(\\n    ds, batch_size=4, num_workers=16, persistent_workers=True, shuffle=True\\n)\";\n",
       "                var nbb_formatted_code = \"ds = NSynthDataset(\\\"/import/c4dm-datasets/nsynth/nsynth-test/\\\")\\ndl = torch.utils.data.DataLoader(\\n    ds, batch_size=4, num_workers=16, persistent_workers=True, shuffle=True\\n)\";\n",
       "                var nbb_cells = Jupyter.notebook.get_cells();\n",
       "                for (var i = 0; i < nbb_cells.length; ++i) {\n",
       "                    if (nbb_cells[i].input_prompt_number == nbb_cell_id) {\n",
       "                        if (nbb_cells[i].get_text() == nbb_unformatted_code) {\n",
       "                             nbb_cells[i].set_text(nbb_formatted_code);\n",
       "                        }\n",
       "                        break;\n",
       "                    }\n",
       "                }\n",
       "            }, 500);\n",
       "            "
      ],
      "text/plain": [
       "<IPython.core.display.Javascript object>"
      ]
     },
     "metadata": {},
     "output_type": "display_data"
    }
   ],
   "source": [
    "ds = NSynthDataset(\"/import/c4dm-datasets/nsynth/nsynth-test/\")\n",
    "dl = torch.utils.data.DataLoader(\n",
    "    ds, batch_size=4, num_workers=16, persistent_workers=True, shuffle=True\n",
    ")"
   ]
  },
  {
   "cell_type": "code",
   "execution_count": null,
   "id": "00499bc4",
   "metadata": {},
   "outputs": [
    {
     "name": "stderr",
     "output_type": "stream",
     "text": [
      "GPU available: True, used: True\n",
      "TPU available: False, using: 0 TPU cores\n",
      "IPU available: False, using: 0 IPUs\n",
      "LOCAL_RANK: 0 - CUDA_VISIBLE_DEVICES: [3]\n",
      "\n",
      "  | Name    | Type                    | Params\n",
      "----------------------------------------------------\n",
      "0 | model   | NeuralFieldSynth        | 17.7 M\n",
      "1 | loss_fn | MultiResolutionSTFTLoss | 0     \n",
      "----------------------------------------------------\n",
      "17.7 M    Trainable params\n",
      "0         Non-trainable params\n",
      "17.7 M    Total params\n",
      "70.957    Total estimated model params size (MB)\n"
     ]
    },
    {
     "data": {
      "application/vnd.jupyter.widget-view+json": {
       "model_id": "708c49db1a044ac58bea2cbbc1d20d47",
       "version_major": 2,
       "version_minor": 0
      },
      "text/plain": [
       "Training: 0it [00:00, ?it/s]"
      ]
     },
     "metadata": {},
     "output_type": "display_data"
    }
   ],
   "source": [
    "trainer = pl.Trainer(\n",
    "    #     overfit_batches=1,\n",
    "    gpus=1,\n",
    "    #     strategy=pl.plugins.DDPSpawnPlugin(find_unused_parameters=False),\n",
    ")\n",
    "trainer.fit(model, dl)"
   ]
  },
  {
   "cell_type": "code",
   "execution_count": null,
   "id": "343fed3d",
   "metadata": {},
   "outputs": [],
   "source": [
    "dl = torch.utils.data.DataLoader(\n",
    "    ds, batch_size=8, num_workers=16, persistent_workers=True, shuffle=True\n",
    ")\n",
    "it = iter(dl)"
   ]
  },
  {
   "cell_type": "code",
   "execution_count": null,
   "id": "3b09b6cd",
   "metadata": {},
   "outputs": [],
   "source": [
    "batch = next(it)\n",
    "\n",
    "net = model.model.cuda(0).eval()\n",
    "\n",
    "target = batch[\"audio\"].float().cuda(0)\n",
    "instrument = batch[\"instrument\"].float().cuda(0)\n",
    "pitch = batch[\"pitch\"].float().cuda(0)\n",
    "velocity = batch[\"velocity\"].float().cuda(0)\n",
    "\n",
    "time = torch.linspace(-1, 1, target.shape[-1], device=target.device)[\n",
    "..., None\n",
    "].expand(-1, target.shape[0])\n",
    "\n",
    "recon = net(time, pitch, velocity, instrument, return_params=True)\n"
   ]
  },
  {
   "cell_type": "code",
   "execution_count": null,
   "id": "ab3b7a49",
   "metadata": {},
   "outputs": [],
   "source": [
    "for i in range(target.shape[0]):\n",
    "    print(\"item %d\" % i)\n",
    "    r = recon.output[:, i].detach().cpu()\n",
    "\n",
    "    print(\" -- target\")\n",
    "    ipd.display(ipd.Audio(target[i, 0].cpu(), rate=model.model.sample_rate))\n",
    "    print(\" -- recon\")\n",
    "    ipd.display(ipd.Audio(r - r.mean(), rate=model.model.sample_rate))\n",
    "    print(\" ---- wavetable\")\n",
    "    ipd.display(\n",
    "        ipd.Audio(\n",
    "            recon.wavetable_signal.cpu().detach()[:, i, 0], rate=model.model.sample_rate\n",
    "        )\n",
    "    )\n",
    "    print(\" ---- noise\")\n",
    "    ipd.display(\n",
    "        ipd.Audio(recon.noise_signal.cpu().detach()[:, i], rate=model.model.sample_rate)\n",
    "    )"
   ]
  },
  {
   "cell_type": "code",
   "execution_count": null,
   "id": "7029bc9d",
   "metadata": {},
   "outputs": [],
   "source": [
    "recon.noise_signal.max()"
   ]
  },
  {
   "cell_type": "code",
   "execution_count": null,
   "id": "066ba9bb",
   "metadata": {},
   "outputs": [],
   "source": [
    "batch = next(it)\n",
    "\n",
    "net = model.model.cuda(0)\n",
    "\n",
    "target = batch[\"audio\"].float().cuda(0)\n",
    "instrument = batch[\"instrument\"].float().cuda(0)\n",
    "pitch = batch[\"pitch\"].float().cuda(0)\n",
    "velocity = batch[\"velocity\"].float().cuda(0)\n",
    "\n",
    "time = torch.linspace(-1, 1, target.shape[-1], device=target.device)[..., None].expand(\n",
    "    -1, target.shape[0]\n",
    ")\n",
    "\n",
    "recon = net(time, pitch, velocity, instrument, return_params=True)"
   ]
  },
  {
   "cell_type": "code",
   "execution_count": null,
   "id": "5377771b",
   "metadata": {},
   "outputs": [],
   "source": [
    "ipd.Audio(recon.noise_signal[:, 0].detach().cpu(), rate=net.sample_rate)"
   ]
  },
  {
   "cell_type": "code",
   "execution_count": null,
   "id": "27a1cc87",
   "metadata": {},
   "outputs": [],
   "source": [
    "recon.noise_film_params[0][0, 0][0]"
   ]
  },
  {
   "cell_type": "code",
   "execution_count": null,
   "id": "e193ae68",
   "metadata": {},
   "outputs": [],
   "source": [
    "model.model.cuda(0).noise_field(recon.fir_sample_signal, *recon.noise_film_params)[0:2]"
   ]
  },
  {
   "cell_type": "code",
   "execution_count": null,
   "id": "c439c07d",
   "metadata": {},
   "outputs": [],
   "source": [
    "plt.stem(recon.impulse_response[100, 0].detach().cpu())"
   ]
  },
  {
   "cell_type": "code",
   "execution_count": null,
   "id": "505b7985",
   "metadata": {},
   "outputs": [],
   "source": []
  }
 ],
 "metadata": {
  "kernelspec": {
   "display_name": "Python 3 (ipykernel)",
   "language": "python",
   "name": "python3"
  },
  "language_info": {
   "codemirror_mode": {
    "name": "ipython",
    "version": 3
   },
   "file_extension": ".py",
   "mimetype": "text/x-python",
   "name": "python",
   "nbconvert_exporter": "python",
   "pygments_lexer": "ipython3",
   "version": "3.9.7"
  }
 },
 "nbformat": 4,
 "nbformat_minor": 5
}
